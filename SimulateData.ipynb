{
 "cells": [
  {
   "cell_type": "code",
   "execution_count": 53,
   "id": "45c1d68f-b011-49c3-b2d5-e8c38be886f6",
   "metadata": {},
   "outputs": [],
   "source": [
    "import pandas as pd\n",
    "import numpy as np\n",
    "import random\n",
    "from datetime import datetime, timedelta"
   ]
  },
  {
   "cell_type": "code",
   "execution_count": 65,
   "id": "ad8e46ba-6243-4fe2-ab2b-322436e93d1b",
   "metadata": {},
   "outputs": [],
   "source": [
    "# Constants\n",
    "num_records = 20\n"
   ]
  },
  {
   "cell_type": "code",
   "execution_count": null,
   "id": "f17b41d6-de9e-44a7-954f-7c599c8292ca",
   "metadata": {},
   "outputs": [],
   "source": [
    "dates = [\n",
    "    datetime.date(2021, 8, 29),\n",
    "    datetime.date(2024, 9, 7),\n",
    "    datetime.date(2024, 9, 14),\n",
    "    datetime.date(2024, 9, 21),\n",
    "    datetime.date(2024, 9, 28),\n",
    "    datetime.date(2024, 10, 5),\n",
    "    datetime.date(2024, 10, 12),\n",
    "    datetime.date(2024, 10, 19),\n",
    "    datetime.date(2024, 11, 2),\n",
    "    datetime.date(2024, 11, 9),\n",
    "    datetime.date(2024, 11, 21),\n",
    "    datetime.date(2024, 11, 30),\n",
    "    datetime.date(2024, 12, 7),\n",
    "]\n",
    "times = [\n",
    "    datetime.time(19, 0),  # 7:00 PM\n",
    "    datetime.time(19, 30), # 7:30 PM\n",
    "    datetime.time(12, 0), # 12:00 PM\n",
    "    datetime.time(12, 0), # 12:00 PM\n",
    "    datetime.time(12, 0), # 12:00 PM\n",
    "    datetime.time(12, 0), # 12:00 PM\n",
    "    datetime.time(20, 0), # 8:00 PM\n",
    "    datetime.time(15, 30), # 3:30 PM\n",
    "    datetime.time(12, 0), # 12:00 PM\n",
    "    datetime.time(15, 30), # 3:30 PM\n",
    "    datetime.time(19, 30), # 7:30 PM\n",
    "    datetime.time(19, 30), # 7:30 PM\n",
    "    datetime.time(12, 0), # 12:00 PM\n",
    "]"
   ]
  },
  {
   "cell_type": "markdown",
   "id": "3dcf03f9-e6ec-46e8-9135-ccd2e3d5bd2d",
   "metadata": {},
   "source": [
    "# Fixing the date type issue by converting numpy datetime64 to datetime.date\n",
    "dates_corrected = [pd.to_datetime(date).date() for date in dates]\n",
    "\n",
    "# Generate random times for each event\n",
    "times = [datetime.combine(date, datetime.min.time()) + timedelta(hours=np.random.randint(18, 23)) for date in dates_corrected]\n"
   ]
  },
  {
   "cell_type": "code",
   "execution_count": 73,
   "id": "58b44bcd-2708-4ab3-892a-ed512c50bea7",
   "metadata": {},
   "outputs": [],
   "source": [
    "# Event Names\n",
    "event_names = [f\"Game {i}\" for i in range(1, 14)]\n",
    "\n",
    "# Seat Location\n",
    "seat_locations = ['Upper Deck', 'Lower Bowl', 'VIP']\n",
    "seat_location = np.random.choice(seat_locations, num_records)\n",
    "\n",
    "# Ticket Prices based on seat location\n",
    "price_map = {'Upper Deck': 30, 'Lower Bowl': 70, 'VIP': 150}\n",
    "ticket_prices = [price_map[loc] + np.random.normal(0, 5) for loc in seat_location]\n",
    "\n",
    "# Number of Tickets sold\n",
    "num_tickets = np.random.randint(1, 8, num_records)\n",
    "\n",
    "# Team Performance (simple metric, e.g., a score out of 100)\n",
    "#team_performance = np.random.randint(50, 100, num_records)\n",
    "\n",
    "# Promotion indicator (binary)\n",
    "promotions = np.random.choice([0, 1], num_records, p=[0.8, 0.2])\n"
   ]
  },
  {
   "cell_type": "code",
   "execution_count": 61,
   "id": "d6737873-7e16-4f26-aeee-d7d35ad01f16",
   "metadata": {},
   "outputs": [
    {
     "name": "stdout",
     "output_type": "stream",
     "text": [
      "[datetime.date(2021, 8, 29), datetime.date(2024, 9, 7), datetime.date(2024, 9, 14), datetime.date(2024, 9, 21), datetime.date(2024, 9, 28), datetime.date(2024, 10, 5), datetime.date(2024, 10, 12), datetime.date(2024, 10, 19), datetime.date(2024, 11, 2), datetime.date(2024, 11, 9), datetime.date(2024, 11, 21), datetime.date(2024, 11, 30), datetime.date(2024, 12, 7)]\n",
      "[datetime.time(19, 0), datetime.time(19, 30), datetime.time(12, 0), datetime.time(12, 0), datetime.time(12, 0), datetime.time(12, 0), datetime.time(20, 0), datetime.time(15, 30), datetime.time(12, 0), datetime.time(15, 30), datetime.time(19, 30), datetime.time(19, 30), datetime.time(12, 0)]\n",
      "['Game 1', 'Game 2', 'Game 3', 'Game 4', 'Game 5', 'Game 6', 'Game 7', 'Game 8', 'Game 9', 'Game 10', 'Game 11', 'Game 12', 'Game 13']\n"
     ]
    }
   ],
   "source": [
    "print(dates)\n",
    "print(times)\n",
    "print(event_names)"
   ]
  },
  {
   "cell_type": "code",
   "execution_count": 62,
   "id": "a1633adc-927c-4ab2-9c2f-606d123c2be8",
   "metadata": {},
   "outputs": [],
   "source": [
    "# Compile the games dataset\n",
    "games = {\n",
    "    'Date': dates,\n",
    "    'Time': times,\n",
    "    'Event Name': event_names\n",
    "}\n"
   ]
  },
  {
   "cell_type": "code",
   "execution_count": 63,
   "id": "05af013b-0cb3-4d96-9c98-a3d191c82e90",
   "metadata": {},
   "outputs": [
    {
     "data": {
      "text/html": [
       "<div>\n",
       "<style scoped>\n",
       "    .dataframe tbody tr th:only-of-type {\n",
       "        vertical-align: middle;\n",
       "    }\n",
       "\n",
       "    .dataframe tbody tr th {\n",
       "        vertical-align: top;\n",
       "    }\n",
       "\n",
       "    .dataframe thead th {\n",
       "        text-align: right;\n",
       "    }\n",
       "</style>\n",
       "<table border=\"1\" class=\"dataframe\">\n",
       "  <thead>\n",
       "    <tr style=\"text-align: right;\">\n",
       "      <th></th>\n",
       "      <th>Date</th>\n",
       "      <th>Time</th>\n",
       "      <th>Event Name</th>\n",
       "    </tr>\n",
       "  </thead>\n",
       "  <tbody>\n",
       "    <tr>\n",
       "      <th>0</th>\n",
       "      <td>2021-08-29</td>\n",
       "      <td>19:00:00</td>\n",
       "      <td>Game 1</td>\n",
       "    </tr>\n",
       "    <tr>\n",
       "      <th>1</th>\n",
       "      <td>2024-09-07</td>\n",
       "      <td>19:30:00</td>\n",
       "      <td>Game 2</td>\n",
       "    </tr>\n",
       "    <tr>\n",
       "      <th>2</th>\n",
       "      <td>2024-09-14</td>\n",
       "      <td>12:00:00</td>\n",
       "      <td>Game 3</td>\n",
       "    </tr>\n",
       "    <tr>\n",
       "      <th>3</th>\n",
       "      <td>2024-09-21</td>\n",
       "      <td>12:00:00</td>\n",
       "      <td>Game 4</td>\n",
       "    </tr>\n",
       "    <tr>\n",
       "      <th>4</th>\n",
       "      <td>2024-09-28</td>\n",
       "      <td>12:00:00</td>\n",
       "      <td>Game 5</td>\n",
       "    </tr>\n",
       "  </tbody>\n",
       "</table>\n",
       "</div>"
      ],
      "text/plain": [
       "         Date      Time Event Name\n",
       "0  2021-08-29  19:00:00     Game 1\n",
       "1  2024-09-07  19:30:00     Game 2\n",
       "2  2024-09-14  12:00:00     Game 3\n",
       "3  2024-09-21  12:00:00     Game 4\n",
       "4  2024-09-28  12:00:00     Game 5"
      ]
     },
     "execution_count": 63,
     "metadata": {},
     "output_type": "execute_result"
    }
   ],
   "source": [
    "# Create DataFrame\n",
    "games_df = pd.DataFrame(games)\n",
    "games_df.head()\n"
   ]
  },
  {
   "cell_type": "code",
   "execution_count": 89,
   "id": "72ece1cd-aad3-4aa0-a632-4c420c0df618",
   "metadata": {},
   "outputs": [],
   "source": [
    "# Create 1000 observations from the list of dates\n",
    "#randomize = random.choices(data, k=1000)\n",
    "full_games=games_df.sample(n=num_records, replace=True)\n",
    "full_games.reset_index(drop=True, inplace=True)\n"
   ]
  },
  {
   "cell_type": "code",
   "execution_count": 90,
   "id": "d7be7f83-0cb7-4054-937e-856678e703ea",
   "metadata": {},
   "outputs": [
    {
     "data": {
      "text/html": [
       "<div>\n",
       "<style scoped>\n",
       "    .dataframe tbody tr th:only-of-type {\n",
       "        vertical-align: middle;\n",
       "    }\n",
       "\n",
       "    .dataframe tbody tr th {\n",
       "        vertical-align: top;\n",
       "    }\n",
       "\n",
       "    .dataframe thead th {\n",
       "        text-align: right;\n",
       "    }\n",
       "</style>\n",
       "<table border=\"1\" class=\"dataframe\">\n",
       "  <thead>\n",
       "    <tr style=\"text-align: right;\">\n",
       "      <th></th>\n",
       "      <th>Date</th>\n",
       "      <th>Time</th>\n",
       "      <th>Event Name</th>\n",
       "    </tr>\n",
       "  </thead>\n",
       "  <tbody>\n",
       "    <tr>\n",
       "      <th>count</th>\n",
       "      <td>20</td>\n",
       "      <td>20</td>\n",
       "      <td>20</td>\n",
       "    </tr>\n",
       "    <tr>\n",
       "      <th>unique</th>\n",
       "      <td>10</td>\n",
       "      <td>5</td>\n",
       "      <td>10</td>\n",
       "    </tr>\n",
       "    <tr>\n",
       "      <th>top</th>\n",
       "      <td>2024-10-05</td>\n",
       "      <td>12:00:00</td>\n",
       "      <td>Game 6</td>\n",
       "    </tr>\n",
       "    <tr>\n",
       "      <th>freq</th>\n",
       "      <td>4</td>\n",
       "      <td>11</td>\n",
       "      <td>4</td>\n",
       "    </tr>\n",
       "  </tbody>\n",
       "</table>\n",
       "</div>"
      ],
      "text/plain": [
       "              Date      Time Event Name\n",
       "count           20        20         20\n",
       "unique          10         5         10\n",
       "top     2024-10-05  12:00:00     Game 6\n",
       "freq             4        11          4"
      ]
     },
     "execution_count": 90,
     "metadata": {},
     "output_type": "execute_result"
    }
   ],
   "source": [
    "full_games.describe()"
   ]
  },
  {
   "cell_type": "code",
   "execution_count": 91,
   "id": "c077d25b-13f2-4fe2-9c56-b1d5c8a0bd6a",
   "metadata": {},
   "outputs": [
    {
     "data": {
      "text/plain": [
       "2024-10-05    4\n",
       "2024-11-09    3\n",
       "2024-12-07    2\n",
       "2024-09-21    2\n",
       "2024-10-19    2\n",
       "2024-10-12    2\n",
       "2024-11-02    2\n",
       "2021-08-29    1\n",
       "2024-09-28    1\n",
       "2024-11-21    1\n",
       "Name: Date, dtype: int64"
      ]
     },
     "execution_count": 91,
     "metadata": {},
     "output_type": "execute_result"
    }
   ],
   "source": [
    "full_games['Date'].value_counts()"
   ]
  },
  {
   "cell_type": "code",
   "execution_count": 92,
   "id": "8dd4737e-ad42-4665-98cc-14c931b6f066",
   "metadata": {},
   "outputs": [],
   "source": [
    "# Compile the dataset\n",
    "randomized = {\n",
    "    'Seat Location': seat_location,\n",
    "    'Ticket Price': np.round(ticket_prices, 2),\n",
    "    'Number of Tickets': num_tickets,\n",
    "    'Promotion': promotions\n",
    "}"
   ]
  },
  {
   "cell_type": "code",
   "execution_count": 93,
   "id": "a4b9eaf3-3cdf-416e-928c-c2edc9611154",
   "metadata": {},
   "outputs": [],
   "source": [
    "# Create DataFrame\n",
    "sales_df = pd.DataFrame(randomized)\n",
    "sales_df.reset_index(drop=True, inplace=True)\n"
   ]
  },
  {
   "cell_type": "code",
   "execution_count": 94,
   "id": "2ee0c75e-0b84-443d-b0de-1882e360ed22",
   "metadata": {},
   "outputs": [
    {
     "name": "stdout",
     "output_type": "stream",
     "text": [
      "   Seat Location  Ticket Price  Number of Tickets  Promotion\n",
      "0            VIP        151.09                  6          0\n",
      "1     Lower Bowl         65.15                  2          0\n",
      "2     Lower Bowl         70.25                  7          0\n",
      "3     Lower Bowl         67.69                  2          1\n",
      "4            VIP        150.72                  4          0\n",
      "5     Upper Deck         33.27                  7          0\n",
      "6     Lower Bowl         65.14                  7          0\n",
      "7            VIP        148.75                  6          0\n",
      "8     Lower Bowl         59.31                  4          0\n",
      "9     Upper Deck         36.00                  6          0\n",
      "10    Lower Bowl         76.82                  2          0\n",
      "11    Upper Deck         32.99                  6          0\n",
      "12    Lower Bowl         71.44                  2          0\n",
      "13    Lower Bowl         62.98                  4          0\n",
      "14           VIP        142.94                  3          1\n",
      "15    Upper Deck         25.64                  3          0\n",
      "16    Lower Bowl         60.97                  4          1\n",
      "17           VIP        145.59                  3          0\n",
      "18    Lower Bowl         69.99                  5          1\n",
      "19    Upper Deck         38.85                  5          1\n",
      "          Date      Time Event Name\n",
      "0   2024-10-05  12:00:00     Game 6\n",
      "1   2024-12-07  12:00:00    Game 13\n",
      "2   2024-11-09  15:30:00    Game 10\n",
      "3   2021-08-29  19:00:00     Game 1\n",
      "4   2024-09-21  12:00:00     Game 4\n",
      "5   2024-11-09  15:30:00    Game 10\n",
      "6   2024-11-09  15:30:00    Game 10\n",
      "7   2024-10-19  15:30:00     Game 8\n",
      "8   2024-09-21  12:00:00     Game 4\n",
      "9   2024-10-12  20:00:00     Game 7\n",
      "10  2024-10-12  20:00:00     Game 7\n",
      "11  2024-11-02  12:00:00     Game 9\n",
      "12  2024-10-05  12:00:00     Game 6\n",
      "13  2024-10-05  12:00:00     Game 6\n",
      "14  2024-10-05  12:00:00     Game 6\n",
      "15  2024-11-02  12:00:00     Game 9\n",
      "16  2024-10-19  15:30:00     Game 8\n",
      "17  2024-09-28  12:00:00     Game 5\n",
      "18  2024-11-21  19:30:00    Game 11\n",
      "19  2024-12-07  12:00:00    Game 13\n"
     ]
    }
   ],
   "source": [
    "print(sales_df)\n",
    "print(full_games)"
   ]
  },
  {
   "cell_type": "code",
   "execution_count": 95,
   "id": "859778aa-9587-4ac1-a944-0e65ca5966e9",
   "metadata": {},
   "outputs": [
    {
     "name": "stdout",
     "output_type": "stream",
     "text": [
      "             0         1        2           3       4  5  6\n",
      "0   2024-10-05  12:00:00   Game 6         VIP  151.09  6  0\n",
      "1   2024-12-07  12:00:00  Game 13  Lower Bowl   65.15  2  0\n",
      "2   2024-11-09  15:30:00  Game 10  Lower Bowl   70.25  7  0\n",
      "3   2021-08-29  19:00:00   Game 1  Lower Bowl   67.69  2  1\n",
      "4   2024-09-21  12:00:00   Game 4         VIP  150.72  4  0\n",
      "5   2024-11-09  15:30:00  Game 10  Upper Deck   33.27  7  0\n",
      "6   2024-11-09  15:30:00  Game 10  Lower Bowl   65.14  7  0\n",
      "7   2024-10-19  15:30:00   Game 8         VIP  148.75  6  0\n",
      "8   2024-09-21  12:00:00   Game 4  Lower Bowl   59.31  4  0\n",
      "9   2024-10-12  20:00:00   Game 7  Upper Deck   36.00  6  0\n",
      "10  2024-10-12  20:00:00   Game 7  Lower Bowl   76.82  2  0\n",
      "11  2024-11-02  12:00:00   Game 9  Upper Deck   32.99  6  0\n",
      "12  2024-10-05  12:00:00   Game 6  Lower Bowl   71.44  2  0\n",
      "13  2024-10-05  12:00:00   Game 6  Lower Bowl   62.98  4  0\n",
      "14  2024-10-05  12:00:00   Game 6         VIP  142.94  3  1\n",
      "15  2024-11-02  12:00:00   Game 9  Upper Deck   25.64  3  0\n",
      "16  2024-10-19  15:30:00   Game 8  Lower Bowl   60.97  4  1\n",
      "17  2024-09-28  12:00:00   Game 5         VIP  145.59  3  0\n",
      "18  2024-11-21  19:30:00  Game 11  Lower Bowl   69.99  5  1\n",
      "19  2024-12-07  12:00:00  Game 13  Upper Deck   38.85  5  1\n"
     ]
    }
   ],
   "source": [
    "ticket_sales_df = pd.concat([full_games, sales_df], axis=1, ignore_index=True)  # Concatenate horizontally\n",
    "print(ticket_sales_df)"
   ]
  },
  {
   "cell_type": "code",
   "execution_count": null,
   "id": "10ac1137-df31-4556-8764-a452d130a2aa",
   "metadata": {},
   "outputs": [],
   "source": []
  },
  {
   "cell_type": "code",
   "execution_count": null,
   "id": "2550f1d9-b261-49ec-b920-0d450235b87e",
   "metadata": {},
   "outputs": [],
   "source": []
  }
 ],
 "metadata": {
  "kernelspec": {
   "display_name": "Python 3 (ipykernel)",
   "language": "python",
   "name": "python3"
  },
  "language_info": {
   "codemirror_mode": {
    "name": "ipython",
    "version": 3
   },
   "file_extension": ".py",
   "mimetype": "text/x-python",
   "name": "python",
   "nbconvert_exporter": "python",
   "pygments_lexer": "ipython3",
   "version": "3.10.6"
  }
 },
 "nbformat": 4,
 "nbformat_minor": 5
}
