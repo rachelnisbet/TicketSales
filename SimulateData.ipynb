{
 "cells": [
  {
   "cell_type": "markdown",
   "id": "0bbbe913-a2aa-42c9-a9a7-0e4d14236b05",
   "metadata": {},
   "source": [
    "# Simulating Data"
   ]
  },
  {
   "cell_type": "markdown",
   "id": "7cbea9d8-96e3-4474-85fa-e281dc4bd3c0",
   "metadata": {},
   "source": [
    "Let's start by importing the necessary packages for our simulation. This will include pandas, numpy, random, and datetime."
   ]
  },
  {
   "cell_type": "code",
   "execution_count": 108,
   "id": "45c1d68f-b011-49c3-b2d5-e8c38be886f6",
   "metadata": {},
   "outputs": [],
   "source": [
    "import pandas as pd\n",
    "import numpy as np\n",
    "import random\n",
    "from datetime import date, time"
   ]
  },
  {
   "cell_type": "markdown",
   "id": "aa787cac-2a3a-4373-b749-fec46e6dadb6",
   "metadata": {},
   "source": [
    "How many records do you want to simulate? I suggest somewhere between 500-2,500!"
   ]
  },
  {
   "cell_type": "code",
   "execution_count": 109,
   "id": "ad8e46ba-6243-4fe2-ab2b-322436e93d1b",
   "metadata": {},
   "outputs": [],
   "source": [
    "num_records = 20"
   ]
  },
  {
   "cell_type": "markdown",
   "id": "c096c354-005d-4ee2-bfec-3574874ffa6a",
   "metadata": {},
   "source": [
    "Here are some of the details about our games, including the game #, game date, and what time the game is played. Let's put them in lists to be used in our later dataframe.\n",
    "| Game # | Date           | Time    |\n",
    "|--------|----------------|---------|\n",
    "| Game 1 | Aug 29, 2024 | 7 pm    |\n",
    "| Game 2 | Sept 7, 2024 | 7:30 pm |\n",
    "| Game 3 | Sep 14, 2024 |  noon |\n",
    "| Game 4 | Sep 21, 2024 |  noon |\n",
    "| Game 5 | Sep 28, 2024 | noon  |\n",
    "| Game 6 | Oct 5, 2024  |  noon  |\n",
    "| Game 7 | Oct 12, 2024  |  8 pm  |\n",
    "| Game 8 | Oct 19, 2024  |  3:30 pm  |\n",
    "| Game 9 |  Nov 2, 2024  |  noon  |\n",
    "| Game 10 |  Nov 9, 2024 |   3:30 pm   |\n",
    "| Game 11 |  Nov 21, 2024  |   7:30 pm  |\n",
    "| Game 12 |  Nov 30, 2024 |  7:30 pm  |\n",
    "| Game 13 |  Dec 7, 2024  |  noon  |"
   ]
  },
  {
   "cell_type": "code",
   "execution_count": 115,
   "id": "f17b41d6-de9e-44a7-954f-7c599c8292ca",
   "metadata": {},
   "outputs": [],
   "source": [
    "# Event Names\n",
    "event_names = [f\"Game {i}\" for i in range(1, 14)]\n",
    "\n",
    "# Event Dates\n",
    "dates = [\n",
    "    datetime.date(2024, 8, 29),\n",
    "    datetime.date(2024, 9, 7),\n",
    "    datetime.date(2024, 9, 14),\n",
    "    datetime.date(2024, 9, 21),\n",
    "    datetime.date(2024, 9, 28),\n",
    "    datetime.date(2024, 10, 5),\n",
    "    datetime.date(2024, 10, 12),\n",
    "    datetime.date(2024, 10, 19),\n",
    "    datetime.date(2024, 11, 2),\n",
    "    datetime.date(2024, 11, 9),\n",
    "    datetime.date(2024, 11, 21),\n",
    "    datetime.date(2024, 11, 30),\n",
    "    datetime.date(2024, 12, 7),\n",
    "]\n",
    "\n",
    "# Event Times\n",
    "times = [\n",
    "    datetime.time(19, 0),  # 7:00 PM\n",
    "    datetime.time(19, 30), # 7:30 PM\n",
    "    datetime.time(12, 0), # 12:00 PM\n",
    "    datetime.time(12, 0), # 12:00 PM\n",
    "    datetime.time(12, 0), # 12:00 PM\n",
    "    datetime.time(12, 0), # 12:00 PM\n",
    "    datetime.time(20, 0), # 8:00 PM\n",
    "    datetime.time(15, 30), # 3:30 PM\n",
    "    datetime.time(12, 0), # 12:00 PM\n",
    "    datetime.time(15, 30), # 3:30 PM\n",
    "    datetime.time(19, 30), # 7:30 PM\n",
    "    datetime.time(19, 30), # 7:30 PM\n",
    "    datetime.time(12, 0), # 12:00 PM\n",
    "]"
   ]
  },
  {
   "cell_type": "markdown",
   "id": "f34fda50-13f2-4d49-b8ec-614e06a6ff36",
   "metadata": {},
   "source": [
    "Let's start to randomize ticket sales. Some of the details we want to capture are:\n",
    "* What part of the arena were the tickets purchased for?\n",
    "* How much was paid for each ticket?\n",
    "* How many tickets were purchased together?\n",
    "* Was there a promotion on tickets?"
   ]
  },
  {
   "cell_type": "code",
   "execution_count": 138,
   "id": "58b44bcd-2708-4ab3-892a-ed512c50bea7",
   "metadata": {},
   "outputs": [],
   "source": [
    "\n",
    "# Seat Location\n",
    "seat_locations = ['Upper Deck', 'Lower Bowl', 'VIP']\n",
    "seat_location = np.random.choice(seat_locations, num_records)\n",
    "\n",
    "# Ticket Prices based on seat location\n",
    "price_map = {'Upper Deck': 30, 'Lower Bowl': 70, 'VIP': 150}\n",
    "ticket_prices = [price_map[loc] + np.random.normal(0, 5) for loc in seat_location]\n",
    "\n",
    "# Number of Tickets sold\n",
    "num_tickets = np.random.randint(1, 8, num_records)\n",
    "\n",
    "# Team Performance (simple metric, e.g., a score out of 100)\n",
    "#team_performance = np.random.randint(50, 100, num_records)\n",
    "\n",
    "# Promotion indicator (binary)\n",
    "promotions = np.random.choice([0, 1], num_records, p=[0.8, 0.2])\n"
   ]
  },
  {
   "cell_type": "markdown",
   "id": "145c679c-574a-4f17-9f76-ff40115b0921",
   "metadata": {},
   "source": [
    "Since we want to keep the game number, date, and time together, we will make a dataset with these values then convert into a dataframe."
   ]
  },
  {
   "cell_type": "code",
   "execution_count": 116,
   "id": "a1633adc-927c-4ab2-9c2f-606d123c2be8",
   "metadata": {},
   "outputs": [
    {
     "data": {
      "text/html": [
       "<div>\n",
       "<style scoped>\n",
       "    .dataframe tbody tr th:only-of-type {\n",
       "        vertical-align: middle;\n",
       "    }\n",
       "\n",
       "    .dataframe tbody tr th {\n",
       "        vertical-align: top;\n",
       "    }\n",
       "\n",
       "    .dataframe thead th {\n",
       "        text-align: right;\n",
       "    }\n",
       "</style>\n",
       "<table border=\"1\" class=\"dataframe\">\n",
       "  <thead>\n",
       "    <tr style=\"text-align: right;\">\n",
       "      <th></th>\n",
       "      <th>Date</th>\n",
       "      <th>Time</th>\n",
       "      <th>Event Name</th>\n",
       "    </tr>\n",
       "  </thead>\n",
       "  <tbody>\n",
       "    <tr>\n",
       "      <th>0</th>\n",
       "      <td>2024-08-29</td>\n",
       "      <td>19:00:00</td>\n",
       "      <td>Game 1</td>\n",
       "    </tr>\n",
       "    <tr>\n",
       "      <th>1</th>\n",
       "      <td>2024-09-07</td>\n",
       "      <td>19:30:00</td>\n",
       "      <td>Game 2</td>\n",
       "    </tr>\n",
       "    <tr>\n",
       "      <th>2</th>\n",
       "      <td>2024-09-14</td>\n",
       "      <td>12:00:00</td>\n",
       "      <td>Game 3</td>\n",
       "    </tr>\n",
       "    <tr>\n",
       "      <th>3</th>\n",
       "      <td>2024-09-21</td>\n",
       "      <td>12:00:00</td>\n",
       "      <td>Game 4</td>\n",
       "    </tr>\n",
       "    <tr>\n",
       "      <th>4</th>\n",
       "      <td>2024-09-28</td>\n",
       "      <td>12:00:00</td>\n",
       "      <td>Game 5</td>\n",
       "    </tr>\n",
       "  </tbody>\n",
       "</table>\n",
       "</div>"
      ],
      "text/plain": [
       "         Date      Time Event Name\n",
       "0  2024-08-29  19:00:00     Game 1\n",
       "1  2024-09-07  19:30:00     Game 2\n",
       "2  2024-09-14  12:00:00     Game 3\n",
       "3  2024-09-21  12:00:00     Game 4\n",
       "4  2024-09-28  12:00:00     Game 5"
      ]
     },
     "execution_count": 116,
     "metadata": {},
     "output_type": "execute_result"
    }
   ],
   "source": [
    "# Compile the games dataset\n",
    "games = {\n",
    "    'Date': dates,\n",
    "    'Time': times,\n",
    "    'Event Name': event_names\n",
    "}\n",
    "\n",
    "# Create DataFrame\n",
    "games_df = pd.DataFrame(games)\n",
    "\n",
    "#Verify that all looks good!\n",
    "games_df.head()\n"
   ]
  },
  {
   "cell_type": "markdown",
   "id": "672e59f9-aa38-4de0-a11a-0233be782a1f",
   "metadata": {},
   "source": [
    "Currently, we have one observation for each game; however, our goal is to simulate observations that represent someone purchasing tickets. To ensure we have a good mix of games in our dataset to align with ticket sales, we will create a dataset where we select observations from our games_df at random. Plus, as a bit of housekeeping, we will reset the index variable to create unique observation numbers."
   ]
  },
  {
   "cell_type": "code",
   "execution_count": 118,
   "id": "72ece1cd-aad3-4aa0-a632-4c420c0df618",
   "metadata": {},
   "outputs": [
    {
     "name": "stdout",
     "output_type": "stream",
     "text": [
      "         Date      Time Event Name\n",
      "0  2024-09-14  12:00:00     Game 3\n",
      "1  2024-10-19  15:30:00     Game 8\n",
      "2  2024-10-12  20:00:00     Game 7\n",
      "3  2024-11-21  19:30:00    Game 11\n",
      "4  2024-10-12  20:00:00     Game 7\n"
     ]
    }
   ],
   "source": [
    "# Create 1000 observations from the list of dates\n",
    "#randomize = random.choices(data, k=1000)\n",
    "full_games=games_df.sample(n=num_records, replace=True)\n",
    "full_games.reset_index(drop=True, inplace=True)"
   ]
  },
  {
   "cell_type": "markdown",
   "id": "dc516efe-2196-4870-afbf-f2e9c88065e6",
   "metadata": {},
   "source": [
    "To ensure a good distribution of games picked from our dataset, let's do a quick check on uniqueness. "
   ]
  },
  {
   "cell_type": "code",
   "execution_count": 125,
   "id": "d7be7f83-0cb7-4054-937e-856678e703ea",
   "metadata": {},
   "outputs": [
    {
     "data": {
      "text/plain": [
       "Game 8     4\n",
       "Game 13    3\n",
       "Game 3     2\n",
       "Game 7     2\n",
       "Game 11    2\n",
       "Game 12    2\n",
       "Game 4     2\n",
       "Game 9     1\n",
       "Game 2     1\n",
       "Game 10    1\n",
       "Name: Event Name, dtype: int64"
      ]
     },
     "execution_count": 125,
     "metadata": {},
     "output_type": "execute_result"
    }
   ],
   "source": [
    "full_games['Event Name'].value_counts()"
   ]
  },
  {
   "cell_type": "markdown",
   "id": "fb79ac8d-4873-437b-a6b2-e813d6eab935",
   "metadata": {},
   "source": [
    "Already a story is coming to life, where some games have more people purchasing tickets!"
   ]
  },
  {
   "cell_type": "markdown",
   "id": "d4483f65-c1c2-4d1d-9433-565bfdfc55e2",
   "metadata": {},
   "source": [
    "Now time to compile the dataset for ticket sales and turn it into a dataframe."
   ]
  },
  {
   "cell_type": "code",
   "execution_count": 140,
   "id": "8dd4737e-ad42-4665-98cc-14c931b6f066",
   "metadata": {
    "tags": []
   },
   "outputs": [],
   "source": [
    "# Compile the dataset\n",
    "randomized = {\n",
    "    'Seat Location': seat_location,\n",
    "    'Ticket Price': np.round(ticket_prices, 2),\n",
    "    'Number of Tickets': num_tickets,\n",
    "    'Promotion': promotions\n",
    "}\n",
    "\n",
    "# Create DataFrame\n",
    "sales_df = pd.DataFrame(randomized)"
   ]
  },
  {
   "cell_type": "markdown",
   "id": "8d3b3566-2fa8-4fe2-96ba-1bc76dc78b6e",
   "metadata": {},
   "source": [
    "How do our two dataframes look? We need to combine them into a single dataset, so do a quick check on how they look individually first. Will our concatentation work?!"
   ]
  },
  {
   "cell_type": "code",
   "execution_count": 137,
   "id": "2ee0c75e-0b84-443d-b0de-1882e360ed22",
   "metadata": {},
   "outputs": [
    {
     "name": "stdout",
     "output_type": "stream",
     "text": [
      "  Seat Location  Ticket Price  Number of Tickets  Promotion\n",
      "0    Upper Deck         37.61                  5          0\n",
      "1    Upper Deck         21.96                  3          0\n",
      "2    Upper Deck         24.28                  5          0\n",
      "3           VIP        146.38                  1          0\n",
      "4    Upper Deck         23.19                  3          1\n",
      "5    Upper Deck         35.08                  2          1\n",
      "6    Lower Bowl         69.99                  3          0\n",
      "7           VIP        147.79                  4          0\n",
      "8    Lower Bowl         75.94                  6          0\n",
      "9    Lower Bowl         68.71                  2          1\n",
      "         Date      Time Event Name\n",
      "0  2024-09-14  12:00:00     Game 3\n",
      "1  2024-10-19  15:30:00     Game 8\n",
      "2  2024-10-12  20:00:00     Game 7\n",
      "3  2024-11-21  19:30:00    Game 11\n",
      "4  2024-10-12  20:00:00     Game 7\n",
      "5  2024-12-07  12:00:00    Game 13\n",
      "6  2024-11-30  19:30:00    Game 12\n",
      "7  2024-09-14  12:00:00     Game 3\n",
      "8  2024-09-21  12:00:00     Game 4\n",
      "9  2024-11-02  12:00:00     Game 9\n"
     ]
    }
   ],
   "source": [
    "print(sales_df.head(10))\n",
    "print(full_games.head(10))"
   ]
  },
  {
   "cell_type": "code",
   "execution_count": 141,
   "id": "148f03be-d7c8-4d3f-81ea-ee208d706b0d",
   "metadata": {},
   "outputs": [
    {
     "data": {
      "text/html": [
       "<div>\n",
       "<style scoped>\n",
       "    .dataframe tbody tr th:only-of-type {\n",
       "        vertical-align: middle;\n",
       "    }\n",
       "\n",
       "    .dataframe tbody tr th {\n",
       "        vertical-align: top;\n",
       "    }\n",
       "\n",
       "    .dataframe thead th {\n",
       "        text-align: right;\n",
       "    }\n",
       "</style>\n",
       "<table border=\"1\" class=\"dataframe\">\n",
       "  <thead>\n",
       "    <tr style=\"text-align: right;\">\n",
       "      <th></th>\n",
       "      <th>Ticket Price</th>\n",
       "      <th>Number of Tickets</th>\n",
       "      <th>Promotion</th>\n",
       "    </tr>\n",
       "  </thead>\n",
       "  <tbody>\n",
       "    <tr>\n",
       "      <th>count</th>\n",
       "      <td>20.000000</td>\n",
       "      <td>20.000000</td>\n",
       "      <td>20.000000</td>\n",
       "    </tr>\n",
       "    <tr>\n",
       "      <th>mean</th>\n",
       "      <td>91.979000</td>\n",
       "      <td>4.200000</td>\n",
       "      <td>0.050000</td>\n",
       "    </tr>\n",
       "    <tr>\n",
       "      <th>std</th>\n",
       "      <td>51.766331</td>\n",
       "      <td>2.041671</td>\n",
       "      <td>0.223607</td>\n",
       "    </tr>\n",
       "    <tr>\n",
       "      <th>min</th>\n",
       "      <td>23.640000</td>\n",
       "      <td>1.000000</td>\n",
       "      <td>0.000000</td>\n",
       "    </tr>\n",
       "    <tr>\n",
       "      <th>25%</th>\n",
       "      <td>58.972500</td>\n",
       "      <td>3.000000</td>\n",
       "      <td>0.000000</td>\n",
       "    </tr>\n",
       "    <tr>\n",
       "      <th>50%</th>\n",
       "      <td>72.175000</td>\n",
       "      <td>4.000000</td>\n",
       "      <td>0.000000</td>\n",
       "    </tr>\n",
       "    <tr>\n",
       "      <th>75%</th>\n",
       "      <td>147.900000</td>\n",
       "      <td>6.000000</td>\n",
       "      <td>0.000000</td>\n",
       "    </tr>\n",
       "    <tr>\n",
       "      <th>max</th>\n",
       "      <td>156.770000</td>\n",
       "      <td>7.000000</td>\n",
       "      <td>1.000000</td>\n",
       "    </tr>\n",
       "  </tbody>\n",
       "</table>\n",
       "</div>"
      ],
      "text/plain": [
       "       Ticket Price  Number of Tickets  Promotion\n",
       "count     20.000000          20.000000  20.000000\n",
       "mean      91.979000           4.200000   0.050000\n",
       "std       51.766331           2.041671   0.223607\n",
       "min       23.640000           1.000000   0.000000\n",
       "25%       58.972500           3.000000   0.000000\n",
       "50%       72.175000           4.000000   0.000000\n",
       "75%      147.900000           6.000000   0.000000\n",
       "max      156.770000           7.000000   1.000000"
      ]
     },
     "execution_count": 141,
     "metadata": {},
     "output_type": "execute_result"
    }
   ],
   "source": [
    "sales_df.describe()"
   ]
  },
  {
   "cell_type": "code",
   "execution_count": 133,
   "id": "a61090a1-534c-4de1-9511-f20a2da1c1ad",
   "metadata": {},
   "outputs": [
    {
     "data": {
      "text/html": [
       "<div>\n",
       "<style scoped>\n",
       "    .dataframe tbody tr th:only-of-type {\n",
       "        vertical-align: middle;\n",
       "    }\n",
       "\n",
       "    .dataframe tbody tr th {\n",
       "        vertical-align: top;\n",
       "    }\n",
       "\n",
       "    .dataframe thead th {\n",
       "        text-align: right;\n",
       "    }\n",
       "</style>\n",
       "<table border=\"1\" class=\"dataframe\">\n",
       "  <thead>\n",
       "    <tr style=\"text-align: right;\">\n",
       "      <th></th>\n",
       "      <th>Date</th>\n",
       "      <th>Time</th>\n",
       "      <th>Event Name</th>\n",
       "    </tr>\n",
       "  </thead>\n",
       "  <tbody>\n",
       "    <tr>\n",
       "      <th>count</th>\n",
       "      <td>20</td>\n",
       "      <td>20</td>\n",
       "      <td>20</td>\n",
       "    </tr>\n",
       "    <tr>\n",
       "      <th>unique</th>\n",
       "      <td>10</td>\n",
       "      <td>4</td>\n",
       "      <td>10</td>\n",
       "    </tr>\n",
       "    <tr>\n",
       "      <th>top</th>\n",
       "      <td>2024-10-19</td>\n",
       "      <td>12:00:00</td>\n",
       "      <td>Game 8</td>\n",
       "    </tr>\n",
       "    <tr>\n",
       "      <th>freq</th>\n",
       "      <td>4</td>\n",
       "      <td>8</td>\n",
       "      <td>4</td>\n",
       "    </tr>\n",
       "  </tbody>\n",
       "</table>\n",
       "</div>"
      ],
      "text/plain": [
       "              Date      Time Event Name\n",
       "count           20        20         20\n",
       "unique          10         4         10\n",
       "top     2024-10-19  12:00:00     Game 8\n",
       "freq             4         8          4"
      ]
     },
     "execution_count": 133,
     "metadata": {},
     "output_type": "execute_result"
    }
   ],
   "source": [
    "full_games.describe()"
   ]
  },
  {
   "cell_type": "markdown",
   "id": "e205d264-d612-4b62-b2e8-5605fe8bf885",
   "metadata": {},
   "source": [
    "Time to concatenate!! We truly want to just add the game information to each entry of the ticket sales, so there isn't a match condition - purely just smushing the two datasets together line by line!"
   ]
  },
  {
   "cell_type": "code",
   "execution_count": 142,
   "id": "859778aa-9587-4ac1-a944-0e65ca5966e9",
   "metadata": {},
   "outputs": [
    {
     "name": "stdout",
     "output_type": "stream",
     "text": [
      "             0         1        2           3       4  5  6\n",
      "0   2024-09-14  12:00:00   Game 3  Lower Bowl   68.24  1  0\n",
      "1   2024-10-19  15:30:00   Game 8         VIP  155.88  4  0\n",
      "2   2024-10-12  20:00:00   Game 7         VIP  156.77  6  0\n",
      "3   2024-11-21  19:30:00  Game 11  Upper Deck   23.64  3  0\n",
      "4   2024-10-12  20:00:00   Game 7  Upper Deck   31.17  7  0\n",
      "5   2024-12-07  12:00:00  Game 13  Lower Bowl   75.35  6  0\n",
      "6   2024-11-30  19:30:00  Game 12         VIP  156.49  3  0\n",
      "7   2024-09-14  12:00:00   Game 3  Lower Bowl   72.83  1  0\n",
      "8   2024-09-21  12:00:00   Game 4         VIP  146.34  3  0\n",
      "9   2024-11-02  12:00:00   Game 9         VIP  147.85  1  0\n",
      "10  2024-10-19  15:30:00   Game 8  Lower Bowl   70.64  7  0\n",
      "11  2024-12-07  12:00:00  Game 13  Upper Deck   29.71  3  0\n",
      "12  2024-09-07  19:30:00   Game 2  Upper Deck   30.46  5  0\n",
      "13  2024-10-19  15:30:00   Game 8         VIP  150.94  4  1\n",
      "14  2024-12-07  12:00:00  Game 13  Lower Bowl   70.40  7  0\n",
      "15  2024-10-19  15:30:00   Game 8  Lower Bowl   69.34  4  0\n",
      "16  2024-11-09  15:30:00  Game 10         VIP  148.05  2  0\n",
      "17  2024-11-21  19:30:00  Game 11         VIP  138.93  6  0\n",
      "18  2024-11-30  19:30:00  Game 12  Lower Bowl   71.52  5  0\n",
      "19  2024-09-21  12:00:00   Game 4  Upper Deck   25.03  6  0\n"
     ]
    }
   ],
   "source": [
    "# Concatenate horizontally\n",
    "ticket_sales_df = pd.concat([full_games, sales_df], axis=1, ignore_index=True)  \n",
    "\n",
    "Let's see a snapshot of our final dataset!\n",
    "print(ticket_sales_df)"
   ]
  },
  {
   "cell_type": "code",
   "execution_count": null,
   "id": "10ac1137-df31-4556-8764-a452d130a2aa",
   "metadata": {},
   "outputs": [],
   "source": []
  },
  {
   "cell_type": "code",
   "execution_count": null,
   "id": "2550f1d9-b261-49ec-b920-0d450235b87e",
   "metadata": {},
   "outputs": [],
   "source": []
  }
 ],
 "metadata": {
  "kernelspec": {
   "display_name": "Python 3 (ipykernel)",
   "language": "python",
   "name": "python3"
  },
  "language_info": {
   "codemirror_mode": {
    "name": "ipython",
    "version": 3
   },
   "file_extension": ".py",
   "mimetype": "text/x-python",
   "name": "python",
   "nbconvert_exporter": "python",
   "pygments_lexer": "ipython3",
   "version": "3.10.6"
  }
 },
 "nbformat": 4,
 "nbformat_minor": 5
}
