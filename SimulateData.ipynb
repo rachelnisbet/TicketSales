{
 "cells": [
  {
   "cell_type": "markdown",
   "id": "0bbbe913-a2aa-42c9-a9a7-0e4d14236b05",
   "metadata": {},
   "source": [
    "# Simulating Data"
   ]
  },
  {
   "cell_type": "markdown",
   "id": "7cbea9d8-96e3-4474-85fa-e281dc4bd3c0",
   "metadata": {},
   "source": [
    "Let's start by importing the necessary packages for our simulation. This will include pandas, numpy, random, and datetime."
   ]
  },
  {
   "cell_type": "code",
   "execution_count": 10,
   "id": "45c1d68f-b011-49c3-b2d5-e8c38be886f6",
   "metadata": {},
   "outputs": [],
   "source": [
    "import pandas as pd\n",
    "import numpy as np\n",
    "import random\n",
    "import datetime"
   ]
  },
  {
   "cell_type": "markdown",
   "id": "aa787cac-2a3a-4373-b749-fec46e6dadb6",
   "metadata": {},
   "source": [
    "How many records do you want to simulate? I suggest somewhere between 500-2,500!"
   ]
  },
  {
   "cell_type": "code",
   "execution_count": 2,
   "id": "ad8e46ba-6243-4fe2-ab2b-322436e93d1b",
   "metadata": {},
   "outputs": [],
   "source": [
    "num_records = 20"
   ]
  },
  {
   "cell_type": "markdown",
   "id": "c096c354-005d-4ee2-bfec-3574874ffa6a",
   "metadata": {},
   "source": [
    "Here are some of the details about our games, including the game #, game date, and what time the game is played. Let's put them in lists to be used in our later dataframe.\n",
    "| Game # | Date           | Time    |\n",
    "|--------|----------------|---------|\n",
    "| Game 1 | Aug 29, 2024 | 7 pm    |\n",
    "| Game 2 | Sept 7, 2024 | 7:30 pm |\n",
    "| Game 3 | Sep 14, 2024 |  noon |\n",
    "| Game 4 | Sep 21, 2024 |  noon |\n",
    "| Game 5 | Sep 28, 2024 | noon  |\n",
    "| Game 6 | Oct 5, 2024  |  noon  |\n",
    "| Game 7 | Oct 12, 2024  |  8 pm  |\n",
    "| Game 8 | Oct 19, 2024  |  3:30 pm  |\n",
    "| Game 9 |  Nov 2, 2024  |  noon  |\n",
    "| Game 10 |  Nov 9, 2024 |   3:30 pm   |\n",
    "| Game 11 |  Nov 21, 2024  |   7:30 pm  |\n",
    "| Game 12 |  Nov 30, 2024 |  7:30 pm  |\n",
    "| Game 13 |  Dec 7, 2024  |  noon  |"
   ]
  },
  {
   "cell_type": "code",
   "execution_count": 11,
   "id": "f17b41d6-de9e-44a7-954f-7c599c8292ca",
   "metadata": {},
   "outputs": [],
   "source": [
    "# Event Names\n",
    "event_names = [f\"Game {i}\" for i in range(1, 14)]\n",
    "\n",
    "# Event Dates\n",
    "dates = [\n",
    "    datetime.date(2024, 8, 29),\n",
    "    datetime.date(2024, 9, 7),\n",
    "    datetime.date(2024, 9, 14),\n",
    "    datetime.date(2024, 9, 21),\n",
    "    datetime.date(2024, 9, 28),\n",
    "    datetime.date(2024, 10, 5),\n",
    "    datetime.date(2024, 10, 12),\n",
    "    datetime.date(2024, 10, 19),\n",
    "    datetime.date(2024, 11, 2),\n",
    "    datetime.date(2024, 11, 9),\n",
    "    datetime.date(2024, 11, 21),\n",
    "    datetime.date(2024, 11, 30),\n",
    "    datetime.date(2024, 12, 7),\n",
    "]\n",
    "\n",
    "# Event Times\n",
    "times = [\n",
    "    datetime.time(19, 0),  # 7:00 PM\n",
    "    datetime.time(19, 30), # 7:30 PM\n",
    "    datetime.time(12, 0), # 12:00 PM\n",
    "    datetime.time(12, 0), # 12:00 PM\n",
    "    datetime.time(12, 0), # 12:00 PM\n",
    "    datetime.time(12, 0), # 12:00 PM\n",
    "    datetime.time(20, 0), # 8:00 PM\n",
    "    datetime.time(15, 30), # 3:30 PM\n",
    "    datetime.time(12, 0), # 12:00 PM\n",
    "    datetime.time(15, 30), # 3:30 PM\n",
    "    datetime.time(19, 30), # 7:30 PM\n",
    "    datetime.time(19, 30), # 7:30 PM\n",
    "    datetime.time(12, 0), # 12:00 PM\n",
    "]"
   ]
  },
  {
   "cell_type": "markdown",
   "id": "f34fda50-13f2-4d49-b8ec-614e06a6ff36",
   "metadata": {},
   "source": [
    "Let's start to randomize ticket sales. Some of the details we want to capture are:\n",
    "* What part of the arena were the tickets purchased for?\n",
    "* How much was paid for each ticket?\n",
    "* How many tickets were purchased together?\n",
    "* Was there a promotion on tickets?"
   ]
  },
  {
   "cell_type": "code",
   "execution_count": 12,
   "id": "58b44bcd-2708-4ab3-892a-ed512c50bea7",
   "metadata": {},
   "outputs": [],
   "source": [
    "\n",
    "# Seat Location\n",
    "seat_locations = ['Upper Deck', 'Lower Bowl', 'VIP']\n",
    "seat_location = np.random.choice(seat_locations, num_records)\n",
    "\n",
    "# Ticket Prices based on seat location\n",
    "price_map = {'Upper Deck': 30, 'Lower Bowl': 70, 'VIP': 150}\n",
    "ticket_prices = [price_map[loc] + np.random.normal(0, 5) for loc in seat_location]\n",
    "\n",
    "# Number of Tickets sold\n",
    "num_tickets = np.random.randint(1, 8, num_records)\n",
    "\n",
    "# Team Performance (simple metric, e.g., a score out of 100)\n",
    "#team_performance = np.random.randint(50, 100, num_records)\n",
    "\n",
    "# Promotion indicator (binary)\n",
    "promotions = np.random.choice([0, 1], num_records, p=[0.8, 0.2])\n"
   ]
  },
  {
   "cell_type": "markdown",
   "id": "145c679c-574a-4f17-9f76-ff40115b0921",
   "metadata": {},
   "source": [
    "Since we want to keep the game number, date, and time together, we will make a dataset with these values then convert into a dataframe."
   ]
  },
  {
   "cell_type": "code",
   "execution_count": 13,
   "id": "a1633adc-927c-4ab2-9c2f-606d123c2be8",
   "metadata": {},
   "outputs": [
    {
     "data": {
      "text/html": [
       "<div>\n",
       "<style scoped>\n",
       "    .dataframe tbody tr th:only-of-type {\n",
       "        vertical-align: middle;\n",
       "    }\n",
       "\n",
       "    .dataframe tbody tr th {\n",
       "        vertical-align: top;\n",
       "    }\n",
       "\n",
       "    .dataframe thead th {\n",
       "        text-align: right;\n",
       "    }\n",
       "</style>\n",
       "<table border=\"1\" class=\"dataframe\">\n",
       "  <thead>\n",
       "    <tr style=\"text-align: right;\">\n",
       "      <th></th>\n",
       "      <th>Date</th>\n",
       "      <th>Time</th>\n",
       "      <th>Event Name</th>\n",
       "    </tr>\n",
       "  </thead>\n",
       "  <tbody>\n",
       "    <tr>\n",
       "      <th>0</th>\n",
       "      <td>2024-08-29</td>\n",
       "      <td>19:00:00</td>\n",
       "      <td>Game 1</td>\n",
       "    </tr>\n",
       "    <tr>\n",
       "      <th>1</th>\n",
       "      <td>2024-09-07</td>\n",
       "      <td>19:30:00</td>\n",
       "      <td>Game 2</td>\n",
       "    </tr>\n",
       "    <tr>\n",
       "      <th>2</th>\n",
       "      <td>2024-09-14</td>\n",
       "      <td>12:00:00</td>\n",
       "      <td>Game 3</td>\n",
       "    </tr>\n",
       "    <tr>\n",
       "      <th>3</th>\n",
       "      <td>2024-09-21</td>\n",
       "      <td>12:00:00</td>\n",
       "      <td>Game 4</td>\n",
       "    </tr>\n",
       "    <tr>\n",
       "      <th>4</th>\n",
       "      <td>2024-09-28</td>\n",
       "      <td>12:00:00</td>\n",
       "      <td>Game 5</td>\n",
       "    </tr>\n",
       "  </tbody>\n",
       "</table>\n",
       "</div>"
      ],
      "text/plain": [
       "         Date      Time Event Name\n",
       "0  2024-08-29  19:00:00     Game 1\n",
       "1  2024-09-07  19:30:00     Game 2\n",
       "2  2024-09-14  12:00:00     Game 3\n",
       "3  2024-09-21  12:00:00     Game 4\n",
       "4  2024-09-28  12:00:00     Game 5"
      ]
     },
     "execution_count": 13,
     "metadata": {},
     "output_type": "execute_result"
    }
   ],
   "source": [
    "# Compile the games dataset\n",
    "games = {\n",
    "    'Date': dates,\n",
    "    'Time': times,\n",
    "    'Event Name': event_names\n",
    "}\n",
    "\n",
    "# Create DataFrame\n",
    "games_df = pd.DataFrame(games)\n",
    "\n",
    "#Verify that all looks good!\n",
    "games_df.head()\n"
   ]
  },
  {
   "cell_type": "markdown",
   "id": "672e59f9-aa38-4de0-a11a-0233be782a1f",
   "metadata": {},
   "source": [
    "Currently, we have one observation for each game; however, our goal is to simulate observations that represent someone purchasing tickets. To ensure we have a good mix of games in our dataset to align with ticket sales, we will create a dataset where we select observations from our games_df at random. Plus, as a bit of housekeeping, we will reset the index variable to create unique observation numbers."
   ]
  },
  {
   "cell_type": "code",
   "execution_count": 14,
   "id": "72ece1cd-aad3-4aa0-a632-4c420c0df618",
   "metadata": {},
   "outputs": [],
   "source": [
    "# Create 1000 observations from the list of dates\n",
    "#randomize = random.choices(data, k=1000)\n",
    "full_games=games_df.sample(n=num_records, replace=True)\n",
    "full_games.reset_index(drop=True, inplace=True)"
   ]
  },
  {
   "cell_type": "markdown",
   "id": "dc516efe-2196-4870-afbf-f2e9c88065e6",
   "metadata": {},
   "source": [
    "To ensure a good distribution of games picked from our dataset, let's do a quick check on uniqueness. "
   ]
  },
  {
   "cell_type": "code",
   "execution_count": 15,
   "id": "d7be7f83-0cb7-4054-937e-856678e703ea",
   "metadata": {},
   "outputs": [
    {
     "data": {
      "text/plain": [
       "Game 7     3\n",
       "Game 4     2\n",
       "Game 5     2\n",
       "Game 13    2\n",
       "Game 2     2\n",
       "Game 3     2\n",
       "Game 12    2\n",
       "Game 8     1\n",
       "Game 6     1\n",
       "Game 1     1\n",
       "Game 11    1\n",
       "Game 9     1\n",
       "Name: Event Name, dtype: int64"
      ]
     },
     "execution_count": 15,
     "metadata": {},
     "output_type": "execute_result"
    }
   ],
   "source": [
    "full_games['Event Name'].value_counts()"
   ]
  },
  {
   "cell_type": "markdown",
   "id": "fb79ac8d-4873-437b-a6b2-e813d6eab935",
   "metadata": {},
   "source": [
    "Already a story is coming to life, where some games have more people purchasing tickets!"
   ]
  },
  {
   "cell_type": "markdown",
   "id": "d4483f65-c1c2-4d1d-9433-565bfdfc55e2",
   "metadata": {},
   "source": [
    "Now time to compile the dataset for ticket sales and turn it into a dataframe."
   ]
  },
  {
   "cell_type": "code",
   "execution_count": 16,
   "id": "8dd4737e-ad42-4665-98cc-14c931b6f066",
   "metadata": {
    "tags": []
   },
   "outputs": [],
   "source": [
    "# Compile the dataset\n",
    "randomized = {\n",
    "    'Seat Location': seat_location,\n",
    "    'Ticket Price': np.round(ticket_prices, 2),\n",
    "    'Number of Tickets': num_tickets,\n",
    "    'Promotion': promotions\n",
    "}\n",
    "\n",
    "# Create DataFrame\n",
    "sales_df = pd.DataFrame(randomized)"
   ]
  },
  {
   "cell_type": "markdown",
   "id": "8d3b3566-2fa8-4fe2-96ba-1bc76dc78b6e",
   "metadata": {},
   "source": [
    "How do our two dataframes look? We need to combine them into a single dataset, so do a quick check on how they look individually first. Will our concatentation work?!"
   ]
  },
  {
   "cell_type": "code",
   "execution_count": 17,
   "id": "2ee0c75e-0b84-443d-b0de-1882e360ed22",
   "metadata": {},
   "outputs": [
    {
     "name": "stdout",
     "output_type": "stream",
     "text": [
      "  Seat Location  Ticket Price  Number of Tickets  Promotion\n",
      "0    Upper Deck         25.32                  4          0\n",
      "1           VIP        147.49                  4          0\n",
      "2           VIP        150.91                  4          0\n",
      "3    Upper Deck         29.77                  1          0\n",
      "4           VIP        149.59                  1          0\n",
      "5           VIP        142.58                  4          0\n",
      "6           VIP        146.45                  7          0\n",
      "7    Upper Deck         26.82                  4          0\n",
      "8    Upper Deck         30.52                  6          0\n",
      "9    Upper Deck         32.26                  6          0\n",
      "         Date      Time Event Name\n",
      "0  2024-09-21  12:00:00     Game 4\n",
      "1  2024-10-12  20:00:00     Game 7\n",
      "2  2024-10-19  15:30:00     Game 8\n",
      "3  2024-09-28  12:00:00     Game 5\n",
      "4  2024-12-07  12:00:00    Game 13\n",
      "5  2024-10-05  12:00:00     Game 6\n",
      "6  2024-08-29  19:00:00     Game 1\n",
      "7  2024-09-07  19:30:00     Game 2\n",
      "8  2024-09-28  12:00:00     Game 5\n",
      "9  2024-09-14  12:00:00     Game 3\n"
     ]
    }
   ],
   "source": [
    "print(sales_df.head(10))\n",
    "print(full_games.head(10))"
   ]
  },
  {
   "cell_type": "code",
   "execution_count": 18,
   "id": "148f03be-d7c8-4d3f-81ea-ee208d706b0d",
   "metadata": {},
   "outputs": [
    {
     "data": {
      "text/html": [
       "<div>\n",
       "<style scoped>\n",
       "    .dataframe tbody tr th:only-of-type {\n",
       "        vertical-align: middle;\n",
       "    }\n",
       "\n",
       "    .dataframe tbody tr th {\n",
       "        vertical-align: top;\n",
       "    }\n",
       "\n",
       "    .dataframe thead th {\n",
       "        text-align: right;\n",
       "    }\n",
       "</style>\n",
       "<table border=\"1\" class=\"dataframe\">\n",
       "  <thead>\n",
       "    <tr style=\"text-align: right;\">\n",
       "      <th></th>\n",
       "      <th>Ticket Price</th>\n",
       "      <th>Number of Tickets</th>\n",
       "      <th>Promotion</th>\n",
       "    </tr>\n",
       "  </thead>\n",
       "  <tbody>\n",
       "    <tr>\n",
       "      <th>count</th>\n",
       "      <td>20.000000</td>\n",
       "      <td>20.000000</td>\n",
       "      <td>20.000000</td>\n",
       "    </tr>\n",
       "    <tr>\n",
       "      <th>mean</th>\n",
       "      <td>77.644500</td>\n",
       "      <td>4.150000</td>\n",
       "      <td>0.150000</td>\n",
       "    </tr>\n",
       "    <tr>\n",
       "      <th>std</th>\n",
       "      <td>55.152201</td>\n",
       "      <td>2.033276</td>\n",
       "      <td>0.366348</td>\n",
       "    </tr>\n",
       "    <tr>\n",
       "      <th>min</th>\n",
       "      <td>25.320000</td>\n",
       "      <td>1.000000</td>\n",
       "      <td>0.000000</td>\n",
       "    </tr>\n",
       "    <tr>\n",
       "      <th>25%</th>\n",
       "      <td>30.332500</td>\n",
       "      <td>3.000000</td>\n",
       "      <td>0.000000</td>\n",
       "    </tr>\n",
       "    <tr>\n",
       "      <th>50%</th>\n",
       "      <td>53.645000</td>\n",
       "      <td>4.000000</td>\n",
       "      <td>0.000000</td>\n",
       "    </tr>\n",
       "    <tr>\n",
       "      <th>75%</th>\n",
       "      <td>146.710000</td>\n",
       "      <td>6.000000</td>\n",
       "      <td>0.000000</td>\n",
       "    </tr>\n",
       "    <tr>\n",
       "      <th>max</th>\n",
       "      <td>152.830000</td>\n",
       "      <td>7.000000</td>\n",
       "      <td>1.000000</td>\n",
       "    </tr>\n",
       "  </tbody>\n",
       "</table>\n",
       "</div>"
      ],
      "text/plain": [
       "       Ticket Price  Number of Tickets  Promotion\n",
       "count     20.000000          20.000000  20.000000\n",
       "mean      77.644500           4.150000   0.150000\n",
       "std       55.152201           2.033276   0.366348\n",
       "min       25.320000           1.000000   0.000000\n",
       "25%       30.332500           3.000000   0.000000\n",
       "50%       53.645000           4.000000   0.000000\n",
       "75%      146.710000           6.000000   0.000000\n",
       "max      152.830000           7.000000   1.000000"
      ]
     },
     "execution_count": 18,
     "metadata": {},
     "output_type": "execute_result"
    }
   ],
   "source": [
    "sales_df.describe()"
   ]
  },
  {
   "cell_type": "code",
   "execution_count": 19,
   "id": "a61090a1-534c-4de1-9511-f20a2da1c1ad",
   "metadata": {},
   "outputs": [
    {
     "data": {
      "text/html": [
       "<div>\n",
       "<style scoped>\n",
       "    .dataframe tbody tr th:only-of-type {\n",
       "        vertical-align: middle;\n",
       "    }\n",
       "\n",
       "    .dataframe tbody tr th {\n",
       "        vertical-align: top;\n",
       "    }\n",
       "\n",
       "    .dataframe thead th {\n",
       "        text-align: right;\n",
       "    }\n",
       "</style>\n",
       "<table border=\"1\" class=\"dataframe\">\n",
       "  <thead>\n",
       "    <tr style=\"text-align: right;\">\n",
       "      <th></th>\n",
       "      <th>Date</th>\n",
       "      <th>Time</th>\n",
       "      <th>Event Name</th>\n",
       "    </tr>\n",
       "  </thead>\n",
       "  <tbody>\n",
       "    <tr>\n",
       "      <th>count</th>\n",
       "      <td>20</td>\n",
       "      <td>20</td>\n",
       "      <td>20</td>\n",
       "    </tr>\n",
       "    <tr>\n",
       "      <th>unique</th>\n",
       "      <td>12</td>\n",
       "      <td>5</td>\n",
       "      <td>12</td>\n",
       "    </tr>\n",
       "    <tr>\n",
       "      <th>top</th>\n",
       "      <td>2024-10-12</td>\n",
       "      <td>12:00:00</td>\n",
       "      <td>Game 7</td>\n",
       "    </tr>\n",
       "    <tr>\n",
       "      <th>freq</th>\n",
       "      <td>3</td>\n",
       "      <td>10</td>\n",
       "      <td>3</td>\n",
       "    </tr>\n",
       "  </tbody>\n",
       "</table>\n",
       "</div>"
      ],
      "text/plain": [
       "              Date      Time Event Name\n",
       "count           20        20         20\n",
       "unique          12         5         12\n",
       "top     2024-10-12  12:00:00     Game 7\n",
       "freq             3        10          3"
      ]
     },
     "execution_count": 19,
     "metadata": {},
     "output_type": "execute_result"
    }
   ],
   "source": [
    "full_games.describe()"
   ]
  },
  {
   "cell_type": "markdown",
   "id": "e205d264-d612-4b62-b2e8-5605fe8bf885",
   "metadata": {},
   "source": [
    "Time to concatenate!! We truly want to just add the game information to each entry of the ticket sales, so there isn't a match condition - purely just smushing the two datasets together line by line!"
   ]
  },
  {
   "cell_type": "code",
   "execution_count": 21,
   "id": "859778aa-9587-4ac1-a944-0e65ca5966e9",
   "metadata": {},
   "outputs": [
    {
     "name": "stdout",
     "output_type": "stream",
     "text": [
      "             0         1        2           3       4  5  6\n",
      "0   2024-09-21  12:00:00   Game 4  Upper Deck   25.32  4  0\n",
      "1   2024-10-12  20:00:00   Game 7         VIP  147.49  4  0\n",
      "2   2024-10-19  15:30:00   Game 8         VIP  150.91  4  0\n",
      "3   2024-09-28  12:00:00   Game 5  Upper Deck   29.77  1  0\n",
      "4   2024-12-07  12:00:00  Game 13         VIP  149.59  1  0\n",
      "5   2024-10-05  12:00:00   Game 6         VIP  142.58  4  0\n",
      "6   2024-08-29  19:00:00   Game 1         VIP  146.45  7  0\n",
      "7   2024-09-07  19:30:00   Game 2  Upper Deck   26.82  4  0\n",
      "8   2024-09-28  12:00:00   Game 5  Upper Deck   30.52  6  0\n",
      "9   2024-09-14  12:00:00   Game 3  Upper Deck   32.26  6  0\n",
      "10  2024-11-30  19:30:00  Game 12  Upper Deck   27.21  7  0\n",
      "11  2024-09-07  19:30:00   Game 2  Upper Deck   39.64  5  1\n",
      "12  2024-11-30  19:30:00  Game 12         VIP  149.47  4  0\n",
      "13  2024-09-14  12:00:00   Game 3  Lower Bowl   67.65  3  1\n",
      "14  2024-11-21  19:30:00  Game 11  Upper Deck   32.72  6  1\n",
      "15  2024-11-02  12:00:00   Game 9  Upper Deck   33.53  5  0\n",
      "16  2024-09-21  12:00:00   Game 4  Upper Deck   27.09  1  0\n",
      "17  2024-12-07  12:00:00  Game 13  Lower Bowl   72.21  7  0\n",
      "18  2024-10-12  20:00:00   Game 7  Lower Bowl   68.83  1  0\n",
      "19  2024-10-12  20:00:00   Game 7         VIP  152.83  3  0\n"
     ]
    }
   ],
   "source": [
    "# Concatenate horizontally\n",
    "ticket_sales_df = pd.concat([full_games, sales_df], axis=1, ignore_index=True)  \n",
    "\n",
    "# Let's see a snapshot of our final dataset!\n",
    "print(ticket_sales_df)"
   ]
  },
  {
   "cell_type": "code",
   "execution_count": 22,
   "id": "10ac1137-df31-4556-8764-a452d130a2aa",
   "metadata": {},
   "outputs": [],
   "source": [
    "# Saving our dataset\n",
    "ticket_sales_df.to_csv('ticket_sales.csv', index=False)\n"
   ]
  },
  {
   "cell_type": "code",
   "execution_count": null,
   "id": "2550f1d9-b261-49ec-b920-0d450235b87e",
   "metadata": {},
   "outputs": [],
   "source": []
  }
 ],
 "metadata": {
  "kernelspec": {
   "display_name": "Python 3 (ipykernel)",
   "language": "python",
   "name": "python3"
  },
  "language_info": {
   "codemirror_mode": {
    "name": "ipython",
    "version": 3
   },
   "file_extension": ".py",
   "mimetype": "text/x-python",
   "name": "python",
   "nbconvert_exporter": "python",
   "pygments_lexer": "ipython3",
   "version": "3.10.6"
  }
 },
 "nbformat": 4,
 "nbformat_minor": 5
}
